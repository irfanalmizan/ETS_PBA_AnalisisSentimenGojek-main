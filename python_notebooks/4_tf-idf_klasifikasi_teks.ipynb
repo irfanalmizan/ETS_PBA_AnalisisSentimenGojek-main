{
  "cells": [
    {
      "cell_type": "code",
      "execution_count": 3,
      "metadata": {
        "colab": {
          "base_uri": "https://localhost:8080/",
          "height": 1000
        },
        "id": "8CMDW93u-0WK",
        "outputId": "d76473d6-a117-4c34-bcf2-1955757364d1"
      },
      "outputs": [
        {
          "name": "stdout",
          "output_type": "stream",
          "text": [
            "\n",
            "\u001b[1m[\u001b[0m\u001b[34;49mnotice\u001b[0m\u001b[1;39;49m]\u001b[0m\u001b[39;49m A new release of pip is available: \u001b[0m\u001b[31;49m24.2\u001b[0m\u001b[39;49m -> \u001b[0m\u001b[32;49m25.3\u001b[0m\n",
            "\u001b[1m[\u001b[0m\u001b[34;49mnotice\u001b[0m\u001b[1;39;49m]\u001b[0m\u001b[39;49m To update, run: \u001b[0m\u001b[32;49mpip install --upgrade pip\u001b[0m\n"
          ]
        },
        {
          "name": "stderr",
          "output_type": "stream",
          "text": [
            "2025-10-28 16:33:05,585 - INFO - ✅ Berhasil memuat file gojek_news_preprocessed_final.csv\n"
          ]
        },
        {
          "name": "stdout",
          "output_type": "stream",
          "text": [
            "Parameter terbaik: {'multinomialnb__alpha': 0.1, 'tfidfvectorizer__max_features': 7000}\n",
            "Skor rata-rata terbaik (CV): 0.87\n",
            "\n",
            "🎯 Akurasi Model pada Test Set: 0.90\n",
            "\n",
            "📊 Laporan Klasifikasi:\n",
            "              precision    recall  f1-score   support\n",
            "\n",
            "     negatif       0.94      0.80      0.86        20\n",
            "      netral       1.00      0.95      0.97        20\n",
            "     positif       0.79      0.95      0.86        20\n",
            "\n",
            "    accuracy                           0.90        60\n",
            "   macro avg       0.91      0.90      0.90        60\n",
            "weighted avg       0.91      0.90      0.90        60\n",
            "\n",
            "\n",
            "🔮 Hasil Prediksi Teks Baru:\n",
            "• 'Gojek memberikan pelayanan yang sangat memuaskan dan cepat!' → positif\n",
            "• 'Banyak pengemudi Gojek yang mengeluh tentang potongan biaya aplikasi.' → positif\n",
            "• 'Tarif Gojek baru membuat pelanggan sedikit keberatan.' → positif\n",
            "• 'Layanan GoFood membantu UMKM lokal berkembang pesat.' → positif\n"
          ]
        },
        {
          "name": "stderr",
          "output_type": "stream",
          "text": [
            "/var/folders/77/vv2j_079111byz0tpny0xplc0000gp/T/ipykernel_12701/2592083918.py:122: FutureWarning: \n",
            "\n",
            "Passing `palette` without assigning `hue` is deprecated and will be removed in v0.14.0. Assign the `x` variable to `hue` and set `legend=False` for the same effect.\n",
            "\n",
            "  sns.countplot(x='label', data=df, palette='viridis')\n"
          ]
        },
        {
          "data": {
            "image/png": "[encoded data removed]",
            "text/plain": [
              "<Figure size 800x600 with 1 Axes>"
            ]
          },
          "metadata": {},
          "output_type": "display_data"
        },
        {
          "name": "stderr",
          "output_type": "stream",
          "text": [
            "2025-10-28 16:33:08,566 - INFO - Total data: 300\n",
            "2025-10-28 16:33:08,568 - INFO - Distribusi label:\n",
            "label\n",
            "negatif    100\n",
            "positif    100\n",
            "netral     100\n",
            "2025-10-28 16:33:08,569 - INFO - Akurasi model: 0.90\n"
          ]
        }
      ],
      "source": [
        "# ================================================================\n",
        "# 🤖 TRAINING MODEL SENTIMEN GOJEK - TF-IDF + NAIVE BAYES\n",
        "# ================================================================\n",
        "\n",
        "# Install required packages\n",
        "!pip uninstall nltk -y -q\n",
        "!pip install pandas numpy nltk Sastrawi wordcloud seaborn matplotlib scikit-learn -q\n",
        "\n",
        "import pandas as pd\n",
        "import numpy as np\n",
        "import re\n",
        "import logging\n",
        "import nltk\n",
        "from nltk.tokenize import word_tokenize\n",
        "from sklearn.feature_extraction.text import TfidfVectorizer\n",
        "from sklearn.naive_bayes import MultinomialNB\n",
        "from sklearn.pipeline import make_pipeline\n",
        "from sklearn.model_selection import train_test_split, GridSearchCV\n",
        "from sklearn.metrics import accuracy_score, classification_report\n",
        "import seaborn as sns\n",
        "import matplotlib.pyplot as plt\n",
        "\n",
        "# ================================================================\n",
        "# ⚙️ Setup NLTK\n",
        "# ================================================================\n",
        "import shutil, os\n",
        "for path in nltk.data.path:\n",
        "    if os.path.exists(path):\n",
        "        shutil.rmtree(path, ignore_errors=True)\n",
        "\n",
        "nltk.data.path.append(\"/Users/irfan/nltk_data\")\n",
        "try:\n",
        "    nltk.download('punkt', quiet=True)\n",
        "    nltk.download('punkt_tab', quiet=True)\n",
        "except:\n",
        "    pass\n",
        "\n",
        "# ================================================================\n",
        "# 🧾 Load Dataset\n",
        "# ================================================================\n",
        "logging.basicConfig(level=logging.INFO, format='%(asctime)s - %(levelname)s - %(message)s')\n",
        "logger = logging.getLogger(__name__)\n",
        "\n",
        "try:\n",
        "    df = pd.read_csv('gojek_news_preprocessed_final.csv')\n",
        "    logger.info(\"✅ Berhasil memuat file gojek_news_preprocessed_final.csv\")\n",
        "except FileNotFoundError:\n",
        "    logger.error(\"❌ File gojek_news_preprocessed_final.csv tidak ditemukan.\")\n",
        "    raise\n",
        "\n",
        "required_columns = ['filtered_content', 'label']\n",
        "if not all(col in df.columns for col in required_columns):\n",
        "    missing_cols = [col for col in required_columns if col not in df.columns]\n",
        "    raise ValueError(f\"DataFrame tidak memiliki kolom yang diperlukan: {missing_cols}\")\n",
        "\n",
        "# ================================================================\n",
        "# 🧠 Persiapan Data\n",
        "# ================================================================\n",
        "X = df['filtered_content'].fillna('')\n",
        "y = df['label']\n",
        "\n",
        "X_train, X_test, y_train, y_test = train_test_split(\n",
        "    X, y, test_size=0.2, random_state=42, stratify=y\n",
        ")\n",
        "\n",
        "# ================================================================\n",
        "# 🧩 Pipeline TF-IDF + MultinomialNB\n",
        "# ================================================================\n",
        "pipeline_nb = make_pipeline(\n",
        "    TfidfVectorizer(\n",
        "        stop_words=['yang', 'dan', 'di', 'dengan', 'untuk', 'pada', 'ini', 'dari',\n",
        "                    'ke', 'dalam', 'tersebut', 'adalah', 'oleh', 'gojek'],\n",
        "        max_features=5000,\n",
        "        ngram_range=(1, 2)\n",
        "    ),\n",
        "    MultinomialNB()\n",
        ")\n",
        "\n",
        "# ================================================================\n",
        "# 🔍 Grid Search Parameter Tuning\n",
        "# ================================================================\n",
        "param_grid = {\n",
        "    'tfidfvectorizer__max_features': [3000, 5000, 7000],\n",
        "    'multinomialnb__alpha': [0.1, 0.5, 1.0]\n",
        "}\n",
        "\n",
        "grid_search = GridSearchCV(pipeline_nb, param_grid, cv=5, scoring='accuracy', n_jobs=-1)\n",
        "grid_search.fit(X_train, y_train)\n",
        "\n",
        "print(f\"Parameter terbaik: {grid_search.best_params_}\")\n",
        "print(f\"Skor rata-rata terbaik (CV): {grid_search.best_score_:.2f}\")\n",
        "\n",
        "# ================================================================\n",
        "# 🧾 Evaluasi Model\n",
        "# ================================================================\n",
        "y_pred = grid_search.predict(X_test)\n",
        "accuracy = accuracy_score(y_test, y_pred)\n",
        "print(f\"\\n🎯 Akurasi Model pada Test Set: {accuracy:.2f}\")\n",
        "print(\"\\n📊 Laporan Klasifikasi:\")\n",
        "print(classification_report(y_test, y_pred))\n",
        "\n",
        "# ================================================================\n",
        "# 💬 Prediksi Contoh Teks Baru\n",
        "# ================================================================\n",
        "new_texts = [\n",
        "    \"Gojek memberikan pelayanan yang sangat memuaskan dan cepat!\",\n",
        "    \"Banyak pengemudi Gojek yang mengeluh tentang potongan biaya aplikasi.\",\n",
        "    \"Tarif Gojek baru membuat pelanggan sedikit keberatan.\",\n",
        "    \"Layanan GoFood membantu UMKM lokal berkembang pesat.\"\n",
        "]\n",
        "\n",
        "predictions = grid_search.predict(new_texts)\n",
        "\n",
        "print(\"\\n🔮 Hasil Prediksi Teks Baru:\")\n",
        "for text, pred in zip(new_texts, predictions):\n",
        "    print(f\"• '{text}' → {pred}\")\n",
        "\n",
        "# ================================================================\n",
        "# 📊 Visualisasi Distribusi Label\n",
        "# ================================================================\n",
        "plt.figure(figsize=(8, 6))\n",
        "sns.countplot(x='label', data=df, palette='viridis')\n",
        "plt.title('Distribusi Label Dataset Gojek', fontsize=16)\n",
        "plt.xlabel('Label', fontsize=14)\n",
        "plt.ylabel('Jumlah Data', fontsize=14)\n",
        "plt.tight_layout()\n",
        "plt.savefig('gojek_label_distribution.png')\n",
        "plt.show()\n",
        "\n",
        "# ================================================================\n",
        "# 📈 Simpan Model & Ringkasan\n",
        "# ================================================================\n",
        "logger.info(f\"Total data: {len(df)}\")\n",
        "logger.info(f\"Distribusi label:\\n{df['label'].value_counts().to_string()}\")\n",
        "logger.info(f\"Akurasi model: {accuracy:.2f}\")\n"
      ]
    }
  ],
  "metadata": {
    "colab": {
      "provenance": []
    },
    "kernelspec": {
      "display_name": ".venv (3.13.0)",
      "language": "python",
      "name": "python3"
    },
    "language_info": {
      "codemirror_mode": {
        "name": "ipython",
        "version": 3
      },
      "file_extension": ".py",
      "mimetype": "text/x-python",
      "name": "python",
      "nbconvert_exporter": "python",
      "pygments_lexer": "ipython3",
      "version": "3.13.0"
    }
  },
  "nbformat": 4,
  "nbformat_minor": 0
}
